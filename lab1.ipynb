{
  "nbformat": 4,
  "nbformat_minor": 0,
  "metadata": {
    "colab": {
      "provenance": [],
      "collapsed_sections": [],
      "include_colab_link": true
    },
    "kernelspec": {
      "name": "python3",
      "display_name": "Python 3"
    },
    "language_info": {
      "name": "python"
    }
  },
  "cells": [
    {
      "cell_type": "markdown",
      "metadata": {
        "id": "view-in-github",
        "colab_type": "text"
      },
      "source": [
        "<a href=\"https://colab.research.google.com/github/ArtsemiRyabu/NN_ITP31_2/blob/lab1/lab1.ipynb\" target=\"_parent\"><img src=\"https://colab.research.google.com/assets/colab-badge.svg\" alt=\"Open In Colab\"/></a>"
      ]
    },
    {
      "cell_type": "code",
      "execution_count": null,
      "metadata": {
        "id": "a9uUzT9XAkX5"
      },
      "outputs": [],
      "source": [
        "import numpy as np\n",
        "import random\n",
        "from sklearn.metrics import accuracy_score"
      ]
    },
    {
      "cell_type": "code",
      "source": [
        "def bit_func(x, y):\n",
        "  return x | y & ~y"
      ],
      "metadata": {
        "id": "Yl-2tl83-3dg"
      },
      "execution_count": null,
      "outputs": []
    },
    {
      "cell_type": "code",
      "source": [
        "def step_func(x):\n",
        "  if(x > 0):\n",
        "    return 1\n",
        "  else:\n",
        "    return 0\n",
        "\n",
        "class Neuron:\n",
        "  def __init__(self, weights):\n",
        "    self.weights = weights\n",
        "\n",
        "  def get_sum(self, x):\n",
        "    sum = 0\n",
        "    for i in range(len(self.weights)):\n",
        "      sum += self.weights[i] * x[i]\n",
        "    return sum\n",
        "\n",
        "  def feed(self, x):\n",
        "    y = step_func(self.get_sum(x))\n",
        "    return y\n",
        "    \n",
        "  def print_params(self):\n",
        "    n_str = ''\n",
        "    for i in range(len(self.weights)):\n",
        "      n_str += str(self.weights[i]) + \" \"\n",
        "\n",
        "class Network:\n",
        "  def __init__(self):\n",
        "    self.n1 = Neuron([random.randint(-5, 5), random.randint(-5, 5)])\n",
        "    self.n2 = Neuron([random.randint(-5, 5), random.randint(-5, 5)])\n",
        "    self.o1 = Neuron([random.randint(-5, 5), random.randint(-5, 5)])\n",
        "    self.o2 = Neuron([random.randint(-5, 5), random.randint(-5, 5)])\n",
        "    self.f1 = Neuron([random.randint(-5, 5), random.randint(-5, 5)])\n",
        "\n",
        "  def printNeurons(self):\n",
        "    print(\"[\" + str(round(self.n1.weights[0], 2)) + \" \" + str(round(self.n1.weights[1], 2)) + \" \" +\n",
        "                str(round(self.n2.weights[0], 2)) + \" \" + str(round(self.n2.weights[1], 2)) + \" \" +\n",
        "                str(round(self.o1.weights[0], 2)) + \" \" + str(round(self.n2.weights[1], 2)) + \" \" +\n",
        "                str(round(self.o2.weights[0], 2)) + \" \" + str(round(self.n2.weights[1], 2)) + \" \" +\n",
        "                str(round(self.f1.weights[0], 2)) + \" \" + str(round(self.f1.weights[1], 2)) + \"]\")\n",
        " \n",
        "  def predict(self, data):\n",
        "    y_pred = []\n",
        "    for x in data:\n",
        "      h1 = self.n1.feed(x)\n",
        "      h2 = self.n2.feed(x)\n",
        "      h = [h1, h2]\n",
        "      r1 = self.o1.feed(h)\n",
        "      r2 = self.o2.feed(h)\n",
        "      g = [r1, r2]\n",
        "      y_pred.append(self.f1.feed(g))\n",
        "    return(y_pred)\n",
        "\n",
        "  def trainHebb(self, data, y_trues):\n",
        "    epochs = 20\n",
        "    y_preds = self.predict(data)\n",
        "    acc = accuracy_score(y_trues, y_preds)\n",
        "    print(\"acc before learning: %.3f\" % (acc))\n",
        "    self.printNeurons()    \n",
        "    for epoch in range(epochs):\n",
        "      for x, y_true in zip(data, y_trues):\n",
        "        h1 = self.n1.feed(x)\n",
        "        h2 = self.n2.feed(x)\n",
        "        h = [h1, h2]\n",
        "        r1 = self.o1.feed(h)\n",
        "        r2 = self.o2.feed(h)\n",
        "        g = [r1, r2]\n",
        "        out1 = self.f1.feed(g)\n",
        "        if(out1 > y_true):\n",
        "          for i in range(len(x)):\n",
        "            self.n1.weights[i] -= x[i]\n",
        "            self.n2.weights[i] -= x[i]\n",
        "            self.o1.weights[i] -= h[i]\n",
        "            self.o2.weights[i] -= h[i]\n",
        "            self.f1.weights[i] -= g[i]\n",
        "        elif(out1 < y_true):\n",
        "          for i in range(len(x)):\n",
        "            self.n1.weights[i] += x[i]\n",
        "            self.n2.weights[i] += x[i]\n",
        "            self.o1.weights[i] += h[i]\n",
        "            self.o2.weights[i] += h[i]\n",
        "            self.f1.weights[i] += g[i]\n",
        "      y_preds = self.predict(data)\n",
        "      acc = accuracy_score(y_trues, y_preds)\n",
        "      print(\"Epoch %d acc: %.3f\" % (epoch, acc))\n",
        "      self.printNeurons()\n",
        "    y_preds = self.predict(data)\n",
        "    acc = accuracy_score(y_trues, y_preds)\n",
        "    print(\"acc: \" + str(acc))\n",
        "    self.printNeurons()\n",
        "      \n",
        "all_data = np.array([\n",
        "  [0, 0],\n",
        "  [1, 0],\n",
        "  [0, 1],\n",
        "  [1, 1],\n",
        "])\n",
        "\n",
        "all_y_trues = np.array([\n",
        "  0,\n",
        "  1,\n",
        "  0,\n",
        "  1,\n",
        "])\n",
        "\n",
        "network = Network()\n",
        "network.trainHebb(all_data, all_y_trues)"
      ],
      "metadata": {
        "id": "_TqPuDO9Anai",
        "colab": {
          "base_uri": "https://localhost:8080/"
        },
        "outputId": "80c33fd6-6011-4bc7-f9a8-b19ce33d97d6"
      },
      "execution_count": null,
      "outputs": [
        {
          "output_type": "stream",
          "name": "stdout",
          "text": [
            "acc before learning: 0.500\n",
            "[-4 -1 4 1 -1 1 0 1 2 -2]\n",
            "Epoch 0 acc: 0.500\n",
            "[-2 0 6 2 -1 2 0 2 2 0]\n",
            "Epoch 1 acc: 0.750\n",
            "[0 0 8 2 -1 2 0 2 2 1]\n",
            "Epoch 2 acc: 0.750\n",
            "[1 0 9 2 -1 2 0 2 2 1]\n",
            "Epoch 3 acc: 0.750\n",
            "[2 0 10 2 -1 2 0 2 2 1]\n",
            "Epoch 4 acc: 0.750\n",
            "[3 0 11 2 0 2 1 2 2 1]\n",
            "Epoch 5 acc: 0.750\n",
            "[4 0 12 2 1 2 2 2 2 1]\n",
            "Epoch 6 acc: 0.750\n",
            "[5 0 13 2 2 2 3 2 2 1]\n",
            "Epoch 7 acc: 1.000\n",
            "[5 -1 13 1 2 1 3 1 2 0]\n",
            "Epoch 8 acc: 1.000\n",
            "[5 -1 13 1 2 1 3 1 2 0]\n",
            "Epoch 9 acc: 1.000\n",
            "[5 -1 13 1 2 1 3 1 2 0]\n",
            "Epoch 10 acc: 1.000\n",
            "[5 -1 13 1 2 1 3 1 2 0]\n",
            "Epoch 11 acc: 1.000\n",
            "[5 -1 13 1 2 1 3 1 2 0]\n",
            "Epoch 12 acc: 1.000\n",
            "[5 -1 13 1 2 1 3 1 2 0]\n",
            "Epoch 13 acc: 1.000\n",
            "[5 -1 13 1 2 1 3 1 2 0]\n",
            "Epoch 14 acc: 1.000\n",
            "[5 -1 13 1 2 1 3 1 2 0]\n",
            "acc: 1.0\n",
            "[5 -1 13 1 2 1 3 1 2 0]\n"
          ]
        }
      ]
    }
  ]
}